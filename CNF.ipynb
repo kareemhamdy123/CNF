{
  "nbformat": 4,
  "nbformat_minor": 0,
  "metadata": {
    "colab": {
      "provenance": []
    },
    "kernelspec": {
      "name": "python3",
      "display_name": "Python 3"
    },
    "language_info": {
      "name": "python"
    }
  },
  "cells": [
    {
      "cell_type": "code",
      "source": [
        "import random"
      ],
      "metadata": {
        "id": "UKK2PMtCNNGr"
      },
      "execution_count": 82,
      "outputs": []
    },
    {
      "cell_type": "code",
      "source": [
        "def Eliminate_Implication(sentence):\n",
        "\n",
        "    s = sentence.split(\" \")\n",
        "\n",
        "    for i in range (len(s)):\n",
        "      if s[i] == '->':\n",
        "        s[i-1] = \"~\" + s[i-1]\n",
        "        s[i] = '|'\n",
        "\n",
        "    return ' '.join(s)"
      ],
      "metadata": {
        "id": "5zpK3F8aNPAy"
      },
      "execution_count": 83,
      "outputs": []
    },
    {
      "cell_type": "code",
      "source": [
        "def Move_negation_inward(sentence):\n",
        "\n",
        "    s = sentence.split(\" \")\n",
        "    for i in range (len(s)):\n",
        "      if s[i] == '~(':\n",
        "        s[i+1] = \"~\" + s[i+1]\n",
        "        s[i+3] = \"~\" + s[i+3]\n",
        "\n",
        "        if s[i+2] == '|':\n",
        "          s[i+2] = '&'\n",
        "        elif  s[i+2] == '&':\n",
        "          s[i+2] = '|'\n",
        "\n",
        "        s[i] = \"(\"\n",
        "\n",
        "\n",
        "    return ' '.join(s)\n",
        ""
      ],
      "metadata": {
        "id": "vvKbazOMVjbO"
      },
      "execution_count": 84,
      "outputs": []
    },
    {
      "cell_type": "code",
      "source": [
        "def Remove_Double_Not(sentence):\n",
        "\n",
        "  for i in range (len(sentence)-2):\n",
        "    if sentence[i] == '~' and sentence[i+1] == '~':\n",
        "      sentence = sentence[:i]+sentence[i+2:]\n",
        "\n",
        "  return sentence\n"
      ],
      "metadata": {
        "id": "m-_nlESnZ2Fo"
      },
      "execution_count": 85,
      "outputs": []
    },
    {
      "cell_type": "code",
      "source": [
        "def Standardize_variable_scope(sentence):\n",
        "\n",
        "    v = []\n",
        "    for i in range(len(sentence)):\n",
        "      if sentence[i] == '∀' or sentence[i] == '∃':\n",
        "\n",
        "        if sentence[i+1] not in v:\n",
        "          v.append(sentence[i+1])\n",
        "        else:\n",
        "          randomLetter = chr(random.randint(ord('a'), ord('z')))\n",
        "\n",
        "          while randomLetter in v :\n",
        "             randomLetter = chr(random.randint(ord('a'), ord('z')))\n",
        "\n",
        "          sentence = sentence[:i]+sentence[i:].replace(sentence[i+1] ,randomLetter  )\n",
        "          v.append(randomLetter)\n",
        "\n",
        "    return sentence\n"
      ],
      "metadata": {
        "id": "5KzRwtdpgOCQ"
      },
      "execution_count": 86,
      "outputs": []
    },
    {
      "cell_type": "code",
      "source": [
        "def prenex_form(sentence): #error\n",
        "\n",
        "  s = sentence.split(\" \")\n",
        "  for i in range(len(s)) :\n",
        "\n",
        "    if s[i][0] == '∃' :\n",
        "        s.insert(0,s[i])\n",
        "        s.pop(i+1)\n",
        "\n",
        "  for i in range(len(s)) :\n",
        "    if s[i][0] == '∀':\n",
        "        s.insert(0,s[i])\n",
        "        s.pop(i+1)\n",
        "\n",
        "  return ' '.join(s)"
      ],
      "metadata": {
        "id": "jedAmvI8kw4r"
      },
      "execution_count": 87,
      "outputs": []
    },
    {
      "cell_type": "code",
      "source": [
        "def Skolemization(sentence):\n",
        "  i = 0\n",
        "  count = 1\n",
        "\n",
        "  while i < len(sentence):\n",
        "    if sentence[i] == '∃':\n",
        "      quantifier = sentence[:i].rfind('∀')\n",
        "      if quantifier != -1:\n",
        "          sentence = sentence[:i]+sentence[i+2:].replace(sentence[i+1] , 'f'+str(count)+'('+sentence[quantifier+1]+')')\n",
        "          count += 1\n",
        "      else :\n",
        "          rand = chr(random.randint(ord('A'), ord('Z')))\n",
        "          sentence = sentence[:i]+sentence[i+2:].replace(sentence[i+1] , rand)\n",
        "\n",
        "    else:\n",
        "      i += 1\n",
        "  return sentence"
      ],
      "metadata": {
        "id": "kiLLCu5wnTM5"
      },
      "execution_count": 88,
      "outputs": []
    },
    {
      "cell_type": "code",
      "source": [
        "def eliminate_universal_quantifiers(sentence):\n",
        "  s = sentence.split(\" \")\n",
        "\n",
        "  for i in range (len(s)-1):\n",
        "      if s[i][0] == '∀':\n",
        "        s.pop(i)\n",
        "\n",
        "  return ' '.join(s)"
      ],
      "metadata": {
        "id": "ExJOyfjdnYGa"
      },
      "execution_count": 89,
      "outputs": []
    },
    {
      "cell_type": "code",
      "source": [
        "def Convert_to_conjunctive_normal_form(sentence):\n",
        "\n",
        "    new = []\n",
        "    arr = ['',')','(','&','|']\n",
        "    if \") | (\" in sentence:\n",
        "      idx = sentence.index(\") | (\")\n",
        "      Fpart = sentence[:idx].split(\" \")\n",
        "      Spart = sentence[idx+4:].split(\" \")\n",
        "      for i in Fpart :\n",
        "        for j in Spart :\n",
        "          if (i not in arr ) and (j not in arr) :\n",
        "              new.append(\"( \"+i+\" | \"+ j+\" )\")\n",
        "    else:\n",
        "      return sentence\n",
        "\n",
        "\n",
        "    return \" & \".join(new)"
      ],
      "metadata": {
        "id": "hIubfCu3na8_"
      },
      "execution_count": 90,
      "outputs": []
    },
    {
      "cell_type": "code",
      "source": [
        "def rename_clauses_variables(sentence):\n",
        "  s = sentence.split(\" & \")\n",
        "  v = []\n",
        "  for i in range(len(s)):\n",
        "\n",
        "    rand = chr(random.randint(ord('a'), ord('z')))\n",
        "    while rand in v:\n",
        "      rand = chr(random.randint(ord('a'), ord('z')))\n",
        "    for x in range(1,len(s[i])-1):\n",
        "      if s[i][x-1] == '(' and s[i][x+1] == ')':\n",
        "          if s[i][x] in v :\n",
        "            s[i] = s[i][:x+1].replace(s[i][x],randomLetter)+s[i][x+1:]\n",
        "            v.append(randomLetter)\n",
        "          else:\n",
        "            v.append(s[i][x])\n",
        "            randomLetter = s[i][x]\n",
        "\n",
        "  return s"
      ],
      "metadata": {
        "id": "aGgFgJBUu5Fp"
      },
      "execution_count": 91,
      "outputs": []
    },
    {
      "cell_type": "code",
      "source": [
        "sentence = \"∃x ( P(x) -> Q(x) ) & ∀a ~( P(a) & ~Q(a) )\"\n",
        "\n",
        "sentence = Eliminate_Implication(sentence)\n",
        "print(\"Eliminating Implications:\",sentence )\n",
        "print()\n",
        "\n",
        "sentence = Move_negation_inward(sentence)\n",
        "print(\"Move_negation_inward:\",sentence )\n",
        "print()\n",
        "\n",
        "sentence = Remove_Double_Not(sentence)\n",
        "print(\"Remove_Double_Not:\",sentence )\n",
        "print()\n",
        "\n",
        "sentence = Standardize_variable_scope(sentence)\n",
        "print(\"Standardize_variable_scope:\",sentence )\n",
        "print()\n",
        "\n",
        "sentence = prenex_form(sentence)\n",
        "print(\"prenex_form:\",sentence )\n",
        "\n",
        "print()\n",
        "sentence = Skolemization(sentence)\n",
        "print(\"Skolemization:\",sentence )\n",
        "print()\n",
        "\n",
        "\n",
        "sentence = eliminate_universal_quantifiers(sentence)\n",
        "print(\"Eliminate_universal_quantifiers:\",sentence )\n",
        "\n",
        "print()\n",
        "sentence = Convert_to_conjunctive_normal_form(sentence)\n",
        "print(\"Convert_to_conjunctive_normal_form:\",sentence )\n",
        "\n",
        "\n",
        "print()\n",
        "sentence = rename_clauses_variables(sentence)\n",
        "print(\"rename_clauses_variables:\")\n",
        "for i in sentence:\n",
        "  print(i)\n"
      ],
      "metadata": {
        "colab": {
          "base_uri": "https://localhost:8080/"
        },
        "id": "u2yZCF2tKqIB",
        "outputId": "8ae09667-aefd-4fd0-f2b1-71ba47089317"
      },
      "execution_count": 92,
      "outputs": [
        {
          "output_type": "stream",
          "name": "stdout",
          "text": [
            "Eliminating Implications: ∃x ( ~P(x) | Q(x) ) & ∀a ~( P(a) & ~Q(a) )\n",
            "\n",
            "Move_negation_inward: ∃x ( ~P(x) | Q(x) ) & ∀a ( ~P(a) | ~~Q(a) )\n",
            "\n",
            "Remove_Double_Not: ∃x ( ~P(x) | Q(x) ) & ∀a ( ~P(a) | Q(a) )\n",
            "\n",
            "Standardize_variable_scope: ∃x ( ~P(x) | Q(x) ) & ∀a ( ~P(a) | Q(a) )\n",
            "\n",
            "prenex_form: ∀a ∃x ( ~P(x) | Q(x) ) & ( ~P(a) | Q(a) )\n",
            "\n",
            "Skolemization: ∀a  ( ~P(f1(a)) | Q(f1(a)) ) & ( ~P(a) | Q(a) )\n",
            "\n",
            "Eliminate_universal_quantifiers:  ( ~P(f1(a)) | Q(f1(a)) ) & ( ~P(a) | Q(a) )\n",
            "\n",
            "Convert_to_conjunctive_normal_form:  ( ~P(f1(a)) | Q(f1(a)) ) & ( ~P(a) | Q(a) )\n",
            "\n",
            "rename_clauses_variables:\n",
            " ( ~P(f1(a)) | Q(f1(a)) )\n",
            "( ~P(a) | Q(a) )\n"
          ]
        }
      ]
    }
  ]
}